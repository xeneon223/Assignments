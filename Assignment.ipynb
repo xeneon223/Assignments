{
 "cells": [
  {
   "cell_type": "markdown",
   "id": "eeb86ef2-880e-4998-b2e0-534158385945",
   "metadata": {},
   "source": [
    "# My Jupyter Notebook on Watson Studio"
   ]
  },
  {
   "cell_type": "markdown",
   "id": "503d7df2-8641-4fff-850b-39f45446f7b7",
   "metadata": {},
   "source": [
    "**Ishaan Yadav**\n",
    "Currently studying"
   ]
  },
  {
   "cell_type": "markdown",
   "id": "5588232f-d3c2-44fd-b6aa-5fae85145828",
   "metadata": {},
   "source": [
    "*I am interested in data science so that I can analyze my findings*"
   ]
  },
  {
   "cell_type": "markdown",
   "id": "6ad072d9-3806-4381-a030-34c4b7e6437a",
   "metadata": {},
   "source": [
    "### Code for multiplying two numbers"
   ]
  },
  {
   "cell_type": "code",
   "execution_count": 1,
   "id": "d1a77f6e-e8dc-4bbb-9f9a-3e52fa8a90df",
   "metadata": {},
   "outputs": [
    {
     "name": "stdout",
     "output_type": "stream",
     "text": [
      "the product of 76 and 123 is 9348\n"
     ]
    }
   ],
   "source": [
    "print(\"the product of 76 and 123 is\",76*123)"
   ]
  },
  {
   "cell_type": "markdown",
   "id": "2fc07a4e-4250-4bfd-8fd1-864c195dcd84",
   "metadata": {},
   "source": [
    "Now we let us see a list of animals\n",
    "***\n",
    "1. Tiger\n",
    "2. Lion\n",
    "3. jaguar\n",
    "\n",
    "Month|Year|Date\n",
    "---|---|---\n",
    "jan|1999|09\n",
    "feb|1872|23"
   ]
  },
  {
   "cell_type": "code",
   "execution_count": null,
   "id": "e09f2a7e-380e-48d1-aecc-36f0f7faafd1",
   "metadata": {},
   "outputs": [],
   "source": []
  }
 ],
 "metadata": {
  "kernelspec": {
   "display_name": "Python",
   "language": "python",
   "name": "conda-env-python-py"
  },
  "language_info": {
   "codemirror_mode": {
    "name": "ipython",
    "version": 3
   },
   "file_extension": ".py",
   "mimetype": "text/x-python",
   "name": "python",
   "nbconvert_exporter": "python",
   "pygments_lexer": "ipython3",
   "version": "3.7.12"
  }
 },
 "nbformat": 4,
 "nbformat_minor": 5
}
